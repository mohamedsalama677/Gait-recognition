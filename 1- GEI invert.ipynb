{
 "cells": [
  {
   "cell_type": "code",
   "execution_count": 1,
   "metadata": {},
   "outputs": [
    {
     "name": "stdout",
     "output_type": "stream",
     "text": [
      "D:\\1-  (Graduatoin Project)\\F4 Gait recognation\\1- Data\\real\\Amigos\\Amigos\\silouhette amigos\\farah_1\n",
      "D:\\1-  (Graduatoin Project)\\F4 Gait recognation\\1- Data\\real\\Amigos\\Amigos\\silouhette amigos\\hajar_1\n",
      "D:\\1-  (Graduatoin Project)\\F4 Gait recognation\\1- Data\\real\\Amigos\\Amigos\\silouhette amigos\\henry_1\n",
      "D:\\1-  (Graduatoin Project)\\F4 Gait recognation\\1- Data\\real\\Amigos\\Amigos\\silouhette amigos\\salama_1\n",
      "D:\\1-  (Graduatoin Project)\\F4 Gait recognation\\1- Data\\real\\Amigos\\Amigos\\silouhette amigos\\sama_1\n",
      "D:\\1-  (Graduatoin Project)\\F4 Gait recognation\\1- Data\\real\\Amigos\\Amigos\\silouhette amigos\\sara_1\n"
     ]
    }
   ],
   "source": [
    "import os\n",
    "import cv2\n",
    "import numpy as np \n",
    "\n",
    "# Specify the path to the directory containing your images\n",
    "main_directory_path = 'D:\\\\1-  (Graduatoin Project)\\\\F4 Gait recognation\\\\1- Data\\\\real\\\\Amigos\\\\Amigos\\\\silouhette amigos'\n",
    "\n",
    "# Get a list of all files in the directory\n",
    "files = os.listdir(main_directory_path)\n",
    "\n",
    "# Filter only files with certain extensions (e.g., .jpg, .jpeg, .png)\n",
    "image_files = [file for file in files ]\n",
    "\n",
    "# Iterate over the image files and read each image using OpenCV\n",
    "pathlst = []\n",
    "for image_file in image_files:\n",
    "    # Construct the full path to the image file\n",
    "    image_path = os.path.join(main_directory_path, image_file)\n",
    "\n",
    "    # Use OpenCV to read the image data\n",
    "    print(image_path)\n",
    "    \n",
    "    pathlst.append(image_path)"
   ]
  },
  {
   "cell_type": "markdown",
   "metadata": {},
   "source": [
    "## Read silhouette"
   ]
  },
  {
   "cell_type": "code",
   "execution_count": 2,
   "metadata": {},
   "outputs": [],
   "source": [
    "import cv2\n",
    "import numpy as np\n",
    "import os\n",
    "\n",
    "# Function to read silhouette images from a directory\n",
    "def read_silhouette_images(directory_path):\n",
    "    images = []\n",
    "    for filename in sorted(os.listdir(directory_path)):\n",
    "        if filename.endswith('.png') or filename.endswith('.jpg'):\n",
    "            img_path = os.path.join(directory_path, filename)\n",
    "            img = cv2.imread(img_path, cv2.IMREAD_GRAYSCALE)\n",
    "\n",
    "            # Resize the image to a common size if needed\n",
    "            img = cv2.resize(img, (width, height))\n",
    "\n",
    "            images.append(img)\n",
    "    return images\n",
    "\n",
    "\n",
    "\n",
    "\n",
    "\n",
    "\n",
    "\n"
   ]
  },
  {
   "cell_type": "markdown",
   "metadata": {},
   "source": [
    "## covariance method\n"
   ]
  },
  {
   "cell_type": "code",
   "execution_count": null,
   "metadata": {},
   "outputs": [],
   "source": [
    "def create_gei_covariance(silhouette_images, regularization=1e-5):\n",
    "    # Assuming all silhouette images have the same dimensions\n",
    "    height, width = silhouette_images[0].shape\n",
    "\n",
    "    # Reshape the images into 1D arrays\n",
    "    flattened_images = [img.flatten() for img in silhouette_images]\n",
    "\n",
    "    # Stack the flattened images into a 2D array (rows are pixels, columns are images)\n",
    "    stacked_images = np.stack(flattened_images, axis=1)\n",
    "\n",
    "    # Compute the covariance matrix with regularization\n",
    "    covariance_matrix = np.cov(stacked_images) + regularization * np.eye(stacked_images.shape[0])\n",
    "\n",
    "    # Compute the eigenvectors of the covariance matrix\n",
    "    _, eigenvectors = np.linalg.eigh(covariance_matrix)\n",
    "\n",
    "    # Use the eigenvector corresponding to the largest eigenvalue as the GEI\n",
    "    gei = eigenvectors[:, -1].reshape(height, width)\n",
    "\n",
    "    # Normalize the GEI to be in the range [0, 255]\n",
    "    gei = ((gei - gei.min()) / (gei.max() - gei.min()) * 255).astype(np.uint8)\n",
    "\n",
    "    return gei\n",
    "\n"
   ]
  },
  {
   "cell_type": "markdown",
   "metadata": {},
   "source": [
    "## mean method (flip)"
   ]
  },
  {
   "cell_type": "code",
   "execution_count": 3,
   "metadata": {},
   "outputs": [],
   "source": [
    "import numpy as np\n",
    "\n",
    "def create_gei(silhouette_images, flip=True):\n",
    "    # Assuming all silhouette images have the same dimensions\n",
    "    height, width = silhouette_images[0].shape\n",
    "\n",
    "    # Initialize an array to store accumulated pixel values\n",
    "    gei = np.zeros((height, width), dtype=np.float32)\n",
    "\n",
    "    # Accumulate pixel values across the sequence\n",
    "    for img in silhouette_images:\n",
    "        # Optionally flip the silhouette image\n",
    "        if flip:\n",
    "            img = np.fliplr(img)\n",
    "\n",
    "        gei += img.astype(np.float32)\n",
    "\n",
    "    # Normalize the accumulated values\n",
    "    gei /= len(silhouette_images)\n",
    "\n",
    "    # Convert the GEI to uint8 for display or further processing\n",
    "    gei = gei.astype(np.uint8)\n",
    "\n",
    "    return gei\n"
   ]
  },
  {
   "cell_type": "markdown",
   "metadata": {},
   "source": [
    "## alternative method (flip)"
   ]
  },
  {
   "cell_type": "code",
   "execution_count": 4,
   "metadata": {},
   "outputs": [],
   "source": [
    "import numpy as np\n",
    "import cv2\n",
    "\n",
    "def create_gei_alternative(silhouette_images, flip=True):\n",
    "    # Assuming all silhouette images have the same dimensions\n",
    "    height, width = silhouette_images[0].shape\n",
    "\n",
    "    # Optionally flip the silhouette images horizontally\n",
    "    if flip:\n",
    "        silhouette_images = [np.fliplr(img) for img in silhouette_images]\n",
    "\n",
    "    # Stack the silhouette images along the time dimension\n",
    "    stacked_images = np.stack(silhouette_images, axis=0)\n",
    "\n",
    "    # Compute the temporal average along the time dimension\n",
    "    gei = np.mean(stacked_images, axis=0)\n",
    "\n",
    "    # Normalize the GEI to values between 0 and 255\n",
    "    gei = ((gei - np.min(gei)) / (np.max(gei) - np.min(gei))) * 255\n",
    "\n",
    "    # Convert the GEI to uint8 for display or further processing\n",
    "    gei = gei.astype(np.uint8)\n",
    "\n",
    "    # Save the GEI image to a file if a filename is provided\n",
    "\n",
    "    return gei\n"
   ]
  },
  {
   "cell_type": "code",
   "execution_count": 11,
   "metadata": {},
   "outputs": [],
   "source": [
    "import numpy as np\n",
    "import cv2\n",
    "\n",
    "def standard_deviation(silhouette_images, flip=True):\n",
    "    # Assuming all silhouette images have the same dimensions\n",
    "    height, width = silhouette_images[0].shape\n",
    "\n",
    "    # Optionally flip the silhouette images horizontally\n",
    "    if flip:\n",
    "        silhouette_images = [np.fliplr(img) for img in silhouette_images]\n",
    "\n",
    "    # Stack the silhouette images along the time dimension\n",
    "    stacked_images = np.stack(silhouette_images, axis=0)\n",
    "\n",
    "    # Compute the temporal standard deviation along the time dimension\n",
    "    std_dev = np.std(stacked_images, axis=0)\n",
    "\n",
    "    # Normalize the standard deviation to values between 0 and 255\n",
    "    std_dev_normalized = ((std_dev - np.min(std_dev)) / (np.max(std_dev) - np.min(std_dev))) * 255\n",
    "\n",
    "    # Convert the normalized standard deviation to uint8 for display or further processing\n",
    "    std_dev_image = std_dev_normalized.astype(np.uint8)\n",
    "\n",
    "    # Save the standard deviation image to a file if needed\n",
    "\n",
    "    return std_dev_image\n"
   ]
  },
  {
   "cell_type": "markdown",
   "metadata": {},
   "source": [
    "## Augmented GEI"
   ]
  },
  {
   "cell_type": "code",
   "execution_count": 5,
   "metadata": {},
   "outputs": [],
   "source": [
    "import numpy as np\n",
    "import cv2\n",
    "\n",
    "def create_augmented_gei(gei, num_additional=4, save_prefix='augmented_gei'):\n",
    "    augmented_images = [gei]\n",
    "\n",
    "    for i in range(num_additional):\n",
    "        # Randomly rotate the GEI (angle in degrees)\n",
    "        angle = np.random.uniform(-10, 10)\n",
    "        rotated_gei = rotate_image(gei, angle)\n",
    "\n",
    "        # Randomly scale the GEI\n",
    "        scale_factor = np.random.uniform(0.9, 1.1)\n",
    "        scaled_gei = scale_image(rotated_gei, scale_factor)\n",
    "\n",
    "        augmented_images.append(scaled_gei)\n",
    "\n",
    "    # # Save the augmented images\n",
    "    # for i, img in enumerate(augmented_images):\n",
    "    #     filename = f'{save_prefix}_{i}.png'\n",
    "    #     cv2.imwrite(filename, img)\n",
    "\n",
    "    return augmented_images\n",
    "\n",
    "def rotate_image(image, angle):\n",
    "    rows, cols = image.shape\n",
    "    rotation_matrix = cv2.getRotationMatrix2D((cols / 2, rows / 2), angle, 1)\n",
    "    rotated_image = cv2.warpAffine(image, rotation_matrix, (cols, rows), borderMode=cv2.BORDER_CONSTANT, borderValue=255)\n",
    "    return rotated_image\n",
    "\n",
    "def scale_image(image, scale_factor):\n",
    "    rows, cols = image.shape\n",
    "    scaled_image = cv2.resize(image, (int(cols * scale_factor), int(rows * scale_factor)), interpolation=cv2.INTER_LINEAR)\n",
    "    return scaled_image\n",
    "\n",
    "\n"
   ]
  },
  {
   "cell_type": "markdown",
   "metadata": {},
   "source": [
    "## code to preform \n"
   ]
  },
  {
   "cell_type": "code",
   "execution_count": 6,
   "metadata": {},
   "outputs": [
    {
     "name": "stdout",
     "output_type": "stream",
     "text": [
      "farah_1\n",
      "hajar_1\n",
      "henry_1\n",
      "salama_1\n",
      "sama_1\n",
      "sara_1\n"
     ]
    }
   ],
   "source": [
    "##Specify the desired dimensions for silhouette images\n",
    "height, width = 100, 50  # Replace with your desired dimensions\n",
    "\n",
    "# Specify the path to the directory containing silhouette images\n",
    "for i in pathlst:\n",
    "    _, filename = os.path.split(i)\n",
    "    print(filename)\n",
    "    directory_path = f\"D:\\\\1-  (Graduatoin Project)\\\\F4 Gait recognation\\\\1- Data\\\\real\\\\Amigos\\\\Amigos\\\\NEW_GEI_AMIGOS\\\\{filename}\"\n",
    "    os.makedirs(directory_path, exist_ok=True)\n",
    "    pth= os.listdir(i)\n",
    "    for j in pth :\n",
    "        #print(j)\n",
    "        path_img = os.path.join(i, j)\n",
    "        #print(path_img)\n",
    "        _, filename2 = os.path.split(j)\n",
    "        #print(filename2)\n",
    "        directory_path2 = f\"D:\\\\1-  (Graduatoin Project)\\\\F4 Gait recognation\\\\1- Data\\\\real\\\\Amigos\\\\Amigos\\\\NEW_GEI_AMIGOS\\\\{filename}\"\n",
    "        #os.makedirs(directory_path2, exist_ok=True)\n",
    "        image_files = [file for file in os.listdir(path_img) if file.endswith('.jpg') or file.endswith('.png')]\n",
    "        #print(image_files)\n",
    "        x=0\n",
    "    \n",
    "            \n",
    "        silhouette_images = read_silhouette_images(path_img)\n",
    "            #plt.imshow(estimated_image)\n",
    "        gei_image = create_gei(silhouette_images,False)\n",
    "        output_filename = f\"{image_files[x]}\"\n",
    "        output_path = os.path.join(directory_path2, output_filename)\n",
    "        cv2.imwrite(output_path,gei_image)\n",
    "        x+=1\n",
    "\n",
    "        image_files=[]\n",
    "    \n"
   ]
  },
  {
   "cell_type": "code",
   "execution_count": 67,
   "metadata": {},
   "outputs": [
    {
     "name": "stdout",
     "output_type": "stream",
     "text": [
      "farah_1\n",
      "hajar_1\n",
      "henry_1\n",
      "salama_1\n",
      "sama_1\n",
      "sara_1\n"
     ]
    }
   ],
   "source": [
    "# ...\n",
    "for i in pathlst:\n",
    "    _, filename = os.path.split(i)\n",
    "    print(filename)\n",
    "    directory_path = f\"D:\\\\1-  (Graduatoin Project)\\\\F4 Gait recognation\\\\1- Data\\\\real\\\\Amigos\\\\Amigos\\\\GEI_Amigos\\\\{filename}\"\n",
    "    pth= os.listdir(i)\n",
    "    for j in pth:\n",
    "        path_img = os.path.join(i, j)\n",
    "        _, filename2 = os.path.split(j)\n",
    "        directory_path2 = f\"D:\\\\1-  (Graduatoin Project)\\\\F4 Gait recognation\\\\1- Data\\\\real\\\\Amigos\\\\Amigos\\\\GEI_Amigos\\\\{filename}\"\n",
    "        image_files = [file for file in os.listdir(path_img) if file.endswith('.jpg') or file.endswith('.png')]\n",
    "        x = 0\n",
    "\n",
    "        silhouette_images = read_silhouette_images(path_img)\n",
    "        gei_image = standard_deviation(silhouette_images, False)\n",
    "        aug_images = create_augmented_gei(gei_image, num_additional=10)\n",
    "\n",
    "        for aug_img in aug_images:\n",
    "            output_filename = f\"aug_no_3_2{image_files[x]}\"\n",
    "            output_path = os.path.join(directory_path2, output_filename)\n",
    "            cv2.imwrite(output_path, aug_img)\n",
    "            x += 1\n",
    "\n",
    "        image_files = []\n"
   ]
  },
  {
   "cell_type": "code",
   "execution_count": null,
   "metadata": {},
   "outputs": [],
   "source": []
  }
 ],
 "metadata": {
  "kernelspec": {
   "display_name": "Python 3",
   "language": "python",
   "name": "python3"
  },
  "language_info": {
   "codemirror_mode": {
    "name": "ipython",
    "version": 3
   },
   "file_extension": ".py",
   "mimetype": "text/x-python",
   "name": "python",
   "nbconvert_exporter": "python",
   "pygments_lexer": "ipython3",
   "version": "3.11.5"
  }
 },
 "nbformat": 4,
 "nbformat_minor": 2
}
